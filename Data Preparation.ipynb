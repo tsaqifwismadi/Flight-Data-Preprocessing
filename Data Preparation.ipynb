{
 "cells": [
  {
   "cell_type": "code",
   "execution_count": null,
   "id": "feccf0b1-915b-47e7-8262-4a7a353d24ff",
   "metadata": {},
   "outputs": [],
   "source": [
    "# import and concat data from the same year\n",
    "import os\n",
    "import glob\n",
    "import pandas as pd\n",
    "os.chdir(\"Data 2021\")"
   ]
  },
  {
   "cell_type": "code",
   "execution_count": 12,
   "id": "072ec3d9-8005-43d9-8a21-0a4916d92cd7",
   "metadata": {},
   "outputs": [],
   "source": [
    "# setting the environment (iteration)\n",
    "extension = 'csv'\n",
    "all_filenames = [i for i in glob.glob('*.{}'.format(extension))]"
   ]
  },
  {
   "cell_type": "code",
   "execution_count": null,
   "id": "50d7ca32-c0d9-450e-92aa-b7e35830f07f",
   "metadata": {},
   "outputs": [],
   "source": [
    "# combine all files in the list\n",
    "combined_flights = pd.concat([pd.read_csv(f) for f in all_filenames ])\n",
    "\n",
    "# export to csv\n",
    "combined_flights.to_csv(\"combined_flights_2021.csv\",\n",
    "                    index = False,\n",
    "                    encoding = 'utf-8-sig')"
   ]
  }
 ],
 "metadata": {
  "kernelspec": {
   "display_name": "Python",
   "language": "python",
   "name": "python3"
  },
  "language_info": {
   "codemirror_mode": {
    "name": "ipython",
    "version": 3
   },
   "file_extension": ".py",
   "mimetype": "text/x-python",
   "name": "python",
   "nbconvert_exporter": "python",
   "pygments_lexer": "ipython3",
   "version": "3.8.10"
  }
 },
 "nbformat": 4,
 "nbformat_minor": 5
}

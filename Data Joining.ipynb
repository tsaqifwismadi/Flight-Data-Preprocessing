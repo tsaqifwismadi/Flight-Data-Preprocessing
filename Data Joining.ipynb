{
 "cells": [
  {
   "cell_type": "code",
   "execution_count": 1,
   "id": "5b760774-81fb-4e64-bff4-4bc7bf990e4d",
   "metadata": {},
   "outputs": [],
   "source": [
    "# import and insert file path\n",
    "import os\n",
    "import glob\n",
    "import pandas as pd\n",
    "os.chdir(\"NL Flights Airline\")"
   ]
  },
  {
   "cell_type": "code",
   "execution_count": 2,
   "id": "1f52c829-ae2d-4bf7-8fca-cd7c010f8e02",
   "metadata": {},
   "outputs": [],
   "source": [
    "# setting the environment (iteration)\n",
    "extension = 'csv'\n",
    "all_filenames = [i for i in glob.glob('*.{}'.format(extension))]"
   ]
  },
  {
   "cell_type": "code",
   "execution_count": 3,
   "id": "d8da078a-2673-4145-9c4a-f20cae45307e",
   "metadata": {},
   "outputs": [],
   "source": [
    "# combine all files in the folder\n",
    "NL_combined_flights = pd.concat([pd.read_csv(f) for f in all_filenames ])\n",
    "\n",
    "# export to csv\n",
    "NL_combined_flights.to_csv(\"NL_combined_flights_+_airlines_2019-2021.csv\",\n",
    "                    index = False,\n",
    "                    encoding = 'utf-8-sig')"
   ]
  },
  {
   "cell_type": "code",
   "execution_count": null,
   "id": "0e344653-2b66-450f-b6c3-23bf6b3b2916",
   "metadata": {},
   "outputs": [],
   "source": []
  }
 ],
 "metadata": {
  "kernelspec": {
   "display_name": "Python",
   "language": "python",
   "name": "python3"
  },
  "language_info": {
   "codemirror_mode": {
    "name": "ipython",
    "version": 3
   },
   "file_extension": ".py",
   "mimetype": "text/x-python",
   "name": "python",
   "nbconvert_exporter": "python",
   "pygments_lexer": "ipython3",
   "version": "3.8.10"
  }
 },
 "nbformat": 4,
 "nbformat_minor": 5
}
